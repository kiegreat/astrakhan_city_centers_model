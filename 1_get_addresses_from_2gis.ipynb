{
 "cells": [
  {
   "cell_type": "code",
   "execution_count": 1,
   "metadata": {},
   "outputs": [],
   "source": [
    "import pandas as pd\n",
    "import numpy as np\n",
    "import urllib\n",
    "import time # понадобится, чтобы вставлять паузы в выполнение кода\n",
    "\n",
    "from selenium import webdriver\n",
    "from selenium.webdriver.common.keys import Keys"
   ]
  },
  {
   "cell_type": "code",
   "execution_count": 135,
   "metadata": {
    "scrolled": true
   },
   "outputs": [
    {
     "data": {
      "text/html": [
       "<div>\n",
       "<style scoped>\n",
       "    .dataframe tbody tr th:only-of-type {\n",
       "        vertical-align: middle;\n",
       "    }\n",
       "\n",
       "    .dataframe tbody tr th {\n",
       "        vertical-align: top;\n",
       "    }\n",
       "\n",
       "    .dataframe thead th {\n",
       "        text-align: right;\n",
       "    }\n",
       "</style>\n",
       "<table border=\"1\" class=\"dataframe\">\n",
       "  <thead>\n",
       "    <tr style=\"text-align: right;\">\n",
       "      <th></th>\n",
       "      <th>category</th>\n",
       "    </tr>\n",
       "  </thead>\n",
       "  <tbody>\n",
       "    <tr>\n",
       "      <th>0</th>\n",
       "      <td>Бани</td>\n",
       "    </tr>\n",
       "    <tr>\n",
       "      <th>1</th>\n",
       "      <td>Кинотеатры</td>\n",
       "    </tr>\n",
       "    <tr>\n",
       "      <th>2</th>\n",
       "      <td>Ночные клубы</td>\n",
       "    </tr>\n",
       "    <tr>\n",
       "      <th>3</th>\n",
       "      <td>Бары</td>\n",
       "    </tr>\n",
       "    <tr>\n",
       "      <th>4</th>\n",
       "      <td>Кафе</td>\n",
       "    </tr>\n",
       "  </tbody>\n",
       "</table>\n",
       "</div>"
      ],
      "text/plain": [
       "       category\n",
       "0          Бани\n",
       "1    Кинотеатры\n",
       "2  Ночные клубы\n",
       "3          Бары\n",
       "4          Кафе"
      ]
     },
     "execution_count": 135,
     "metadata": {},
     "output_type": "execute_result"
    }
   ],
   "source": [
    "categories = pd.read_excel('categories.xlsx')\n",
    "categories.head()"
   ]
  },
  {
   "cell_type": "markdown",
   "metadata": {},
   "source": [
    "## 1. Semi-manual version of process"
   ]
  },
  {
   "cell_type": "code",
   "execution_count": 87,
   "metadata": {},
   "outputs": [],
   "source": [
    "driver = webdriver.Chrome('chromedriver.exe') # Откроем браузер через драйвер\n",
    "driver.get('https://2gis.ru/astrakhan/') # В открывшемся браузере перейдем на сайт 2ГИС"
   ]
  },
  {
   "cell_type": "code",
   "execution_count": 88,
   "metadata": {},
   "outputs": [],
   "source": [
    "# Определим поле для отправки поисковых запросов\n",
    "search_bar = driver.find_element_by_xpath('//*[@id=\"root\"]/div/div/div[1]/div[1]/div[2]/div/div/div[1]/div/div/div/div/div[2]/form/div/input')"
   ]
  },
  {
   "cell_type": "code",
   "execution_count": 89,
   "metadata": {},
   "outputs": [],
   "source": [
    "# Выведем список заведений\n",
    "#search_bar.send_keys('Поесть')\n",
    "search_bar.send_keys(categories.category[2])\n",
    "search_bar.send_keys(Keys.ENTER)"
   ]
  },
  {
   "cell_type": "code",
   "execution_count": 90,
   "metadata": {},
   "outputs": [
    {
     "name": "stdout",
     "output_type": "stream",
     "text": [
      "Всего страниц организаций в поисковой выдаче: 65\n"
     ]
    }
   ],
   "source": [
    "# Для переключения между страницами нужно понять, сколько их всего\n",
    "num_of_pages = int(np.ceil(int(driver.find_element_by_xpath('//*[@id=\"root\"]/div/div/div[1]/div[1]/div[2]/div/div/div[2]/div/div/div/div[1]/header/div[3]/div/div[1]/div/div/a/span').text) / 12))\n",
    "print('Всего страниц организаций в поисковой выдаче: %s' % num_of_pages)"
   ]
  },
  {
   "cell_type": "code",
   "execution_count": 60,
   "metadata": {},
   "outputs": [],
   "source": [
    "# Инициализируем таблицы\n",
    "df_result = pd.DataFrame()\n",
    "df_errors = pd.DataFrame()"
   ]
  },
  {
   "cell_type": "code",
   "execution_count": 61,
   "metadata": {},
   "outputs": [],
   "source": [
    "for i in range(1, num_of_pages+1):\n",
    "    try:\n",
    "        #company_cards = driver.find_elements_by_xpath(\"//a[contains(@href, '/astrakhan/firm/')]\")\n",
    "        company_cards = driver.find_elements_by_class_name('_1h3cgic')\n",
    "        \n",
    "        for j in range(len(company_cards)):\n",
    "            try:\n",
    "                company_cards[j].click() # 1. Откроем карточку организации\n",
    "                time.sleep(0.5)\n",
    "\n",
    "                df_temp = pd.DataFrame({\n",
    "                    'name': driver.find_element_by_tag_name('h1').text, # 2. Сохраним название организации\n",
    "                    'address': driver.find_element_by_xpath(\"//a[contains(@href, '/astrakhan/geo/')]\").text # 3. Сохраним адрес\n",
    "                }, index=[0])\n",
    "                \n",
    "                close_xp = '//*[@id=\"root\"]/div/div/div[1]/div[1]/div[1]/div[2]/div/div[1]/div'\n",
    "                driver.find_element_by_xpath(close_xp).click() # Закроем карточку\n",
    "\n",
    "                df_result = df_result.append(df_temp)\n",
    "                time.sleep(0.5)\n",
    "\n",
    "            except Exception:\n",
    "                df_temp = pd.DataFrame({'i': i, 'j': j}, index=[0])\n",
    "                df_errors = df_errors.append(df_temp)\n",
    "\n",
    "        #next_page_xp = '//*[@id=\"root\"]/div/div/div[1]/div[1]/div[2]/div/div/div[2]/div/div/div/div[2]/div[2]/div[1]/div/div/div[1]/div[3]/div[2]/div[2]'\n",
    "        driver.find_element_by_class_name('_n5hmn94').click() # Переключимся на следующую страницу\n",
    "        print(i)\n",
    "        time.sleep(0.7) # Подождем, чтоб список прогрузился\n",
    "    \n",
    "    except Exception:\n",
    "        pass"
   ]
  },
  {
   "cell_type": "code",
   "execution_count": 62,
   "metadata": {},
   "outputs": [
    {
     "name": "stdout",
     "output_type": "stream",
     "text": [
      "Кол-во успешно записанных организаций: 23\n",
      "Кол-во ошибок: 1\n"
     ]
    }
   ],
   "source": [
    "print('Кол-во успешно записанных организаций: %s' % df_result.shape[0])\n",
    "print('Кол-во ошибок: %s' % df_errors.shape[0])"
   ]
  },
  {
   "cell_type": "code",
   "execution_count": 79,
   "metadata": {},
   "outputs": [],
   "source": [
    "df_result.to_csv('addresses.csv', index=False)"
   ]
  },
  {
   "cell_type": "markdown",
   "metadata": {},
   "source": [
    "## 2. Automated object-oriented version"
   ]
  },
  {
   "cell_type": "code",
   "execution_count": 131,
   "metadata": {},
   "outputs": [],
   "source": [
    "class session_of_2gis:\n",
    "    def __init__(self, company_cards_class_name: str = '_1h3cgic'):\n",
    "        self.search_bar_xp = '//*[@id=\"root\"]/div/div/div[1]/div[1]/div[2]/div/div/div[1]/div/div/div/div/div[2]/form/div/input'\n",
    "        self.number_of_pages_xp = '//*[@id=\"root\"]/div/div/div[1]/div[1]/div[2]/div/div/div[2]/div/div/div/div[1]/header/div[3]/div/div[1]/div/div/a/span'\n",
    "        self.company_cards_class_name = company_cards_class_name\n",
    "        self.switch_page_button_xp = \"//*[name()='svg'][contains(@style, '-90deg')]\"\n",
    "        \n",
    "    def scrape_organizations(self, category: str):\n",
    "        driver = webdriver.Chrome('chromedriver.exe') # Откроем браузер через драйвер\n",
    "        driver.get('https://2gis.ru/astrakhan/') # В открывшемся браузере перейдем на сайт 2ГИС\n",
    "\n",
    "        # Определим поле для отправки поисковых запросов\n",
    "        search_bar = driver.find_element_by_xpath(self.search_bar_xp)\n",
    "\n",
    "        # Выведем список заведений\n",
    "        search_bar.send_keys(category)\n",
    "        search_bar.send_keys(Keys.ENTER)\n",
    "        time.sleep(1)\n",
    "\n",
    "        num_of_pages = int(np.ceil(int(driver.find_element_by_xpath(self.number_of_pages_xp).text) / 12))\n",
    "        \n",
    "        # Соглашаемся с новой политикой конфидециальности (в дальнейшем убрать/обернуть в try/except?)\n",
    "        driver.find_element_by_xpath('//*[@id=\"root\"]/div/div/div[3]/footer/div[1]/div[2]/button').click()\n",
    "\n",
    "        df_result = pd.DataFrame()\n",
    "\n",
    "        for i in range(1, num_of_pages+1):\n",
    "            try:\n",
    "                company_cards = driver.find_elements_by_class_name(self.company_cards_class_name)\n",
    "\n",
    "                for j in range(len(company_cards)):\n",
    "                    try:\n",
    "                        company_cards[j].click() # 1. Откроем карточку организации\n",
    "                        time.sleep(0.5)\n",
    "\n",
    "                        df_temp = pd.DataFrame({\n",
    "                            'name': driver.find_element_by_tag_name('h1').text, # 2. Сохраним название организации\n",
    "                            'address': driver.find_element_by_xpath(\"//a[contains(@href, '/astrakhan/geo/')]\").text # 3. Сохраним адрес\n",
    "                        }, index=[0])\n",
    "\n",
    "                        close_xp = '//*[@id=\"root\"]/div/div/div[1]/div[1]/div[1]/div[2]/div/div[1]/div'\n",
    "                        driver.find_element_by_xpath(close_xp).click() # Закроем карточку\n",
    "\n",
    "                        df_result = df_result.append(df_temp)\n",
    "                        time.sleep(0.5)\n",
    "\n",
    "                    except Exception:\n",
    "                        pass\n",
    "\n",
    "                driver.find_element_by_xpath(self.switch_page_button_xp).click() # Переключимся на следующую страницу\n",
    "                time.sleep(0.7) # Подождем, чтоб список прогрузился\n",
    "\n",
    "            except Exception:\n",
    "                pass\n",
    "\n",
    "        # Нужно внедрить reg exp для исправления названий категорий\n",
    "        df_result.to_csv('data/addresses_' + category.replace(' ', '_').replace('-', '_').replace('/', '').replace(',', '_') + '.csv', index=False)\n",
    "        driver.close()"
   ]
  },
  {
   "cell_type": "code",
   "execution_count": 132,
   "metadata": {},
   "outputs": [],
   "source": [
    "session = session_of_2gis()"
   ]
  },
  {
   "cell_type": "code",
   "execution_count": 137,
   "metadata": {},
   "outputs": [],
   "source": [
    "for cat in categories.category:\n",
    "    session.scrape_organizations(category=cat)"
   ]
  }
 ],
 "metadata": {
  "kernelspec": {
   "display_name": "Python 3",
   "language": "python",
   "name": "python3"
  },
  "language_info": {
   "codemirror_mode": {
    "name": "ipython",
    "version": 3
   },
   "file_extension": ".py",
   "mimetype": "text/x-python",
   "name": "python",
   "nbconvert_exporter": "python",
   "pygments_lexer": "ipython3",
   "version": "3.8.3"
  }
 },
 "nbformat": 4,
 "nbformat_minor": 2
}
